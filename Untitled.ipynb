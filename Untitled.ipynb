{
 "cells": [
  {
   "cell_type": "markdown",
   "metadata": {},
   "source": [
    "1. In the below elements which of them are values or an expression? eg:- values can be integer or string and expressions will be mathematical operators.\n",
    "*\n",
    "'hello'\n",
    "-87.8\n",
    "-\n",
    "/\n",
    "+\n",
    "6\n",
    "\n",
    "values are 'hello' ,-87.8, 6     \n",
    "expression are *  , -  , /  , +"
   ]
  },
  {
   "cell_type": "markdown",
   "metadata": {},
   "source": [
    "2. What is the difference between string and variable?\n",
    "\n",
    " spam this is variable whch can be assigned to store something. It does not enclosed with single or double quotes\n",
    "\n",
    "'spam' it is a string becasue it is enclosed with single quotes\n"
   ]
  },
  {
   "cell_type": "markdown",
   "metadata": {},
   "source": [
    "3. Describe three different data types.\n",
    "\n",
    "STRINGS: strings are sequence of characters we can use single or double quotes to represent strings.\n",
    " \n",
    " ex: \"hello\" , 'python' '4556'\n",
    "\n",
    "INTEGERS : integers are numbers without any decimal points are considered as integers in python.\n",
    " \n",
    " ex: 1, 13, -23,\n",
    "        \n",
    "FLOATING NUMBERS: floating numbers are numbers with decimal points are called as floats.\n",
    "  \n",
    "  ex: 54.5  , -45.64 , 34.90"
   ]
  },
  {
   "cell_type": "markdown",
   "metadata": {},
   "source": [
    "4.What is an expression made up of? What do all expressions do?\n",
    "\n",
    "An expression is a combination of values, variables, and operators.If we type any expression in command line interpretor will evalute and displays its values.Expressions will compare or evalute like  < >  <=  or +  - * /  etc"
   ]
  },
  {
   "cell_type": "markdown",
   "metadata": {},
   "source": [
    "5. This assignment statements, like spam = 10. What is the difference between an expression and a statement?\n",
    "\n",
    "Statements represent an action or command e.g print statements, assignment statements. In above example spam is assignment statement\n",
    "\n",
    "Expression is a combination of variables, operations and values that yields a result or value.\n",
    "\n",
    "\n"
   ]
  },
  {
   "cell_type": "markdown",
   "metadata": {},
   "source": [
    "6 After running the following code, what does the variable bacon contain?\n",
    "\n",
    "\n",
    "bacon = 22\n",
    "bacon + 1\n"
   ]
  },
  {
   "cell_type": "code",
   "execution_count": 2,
   "metadata": {},
   "outputs": [
    {
     "name": "stdout",
     "output_type": "stream",
     "text": [
      "22\n"
     ]
    }
   ],
   "source": [
    "bacon = 22\n",
    "bacon + 1\n",
    "print(bacon)"
   ]
  },
  {
   "cell_type": "markdown",
   "metadata": {},
   "source": [
    "bacon variable value remains same as its not using any reassignment operator "
   ]
  },
  {
   "cell_type": "markdown",
   "metadata": {},
   "source": [
    "7. What should the values of the following two terms be?\n",
    "'spam' + 'spamspam'\n",
    "'spam' * 3"
   ]
  },
  {
   "cell_type": "code",
   "execution_count": 15,
   "metadata": {},
   "outputs": [
    {
     "name": "stdout",
     "output_type": "stream",
     "text": [
      "spamspamspam\n",
      "spamspamspam\n",
      "1995566797040\n"
     ]
    },
    {
     "data": {
      "text/plain": [
       "1995566797040"
      ]
     },
     "execution_count": 15,
     "metadata": {},
     "output_type": "execute_result"
    }
   ],
   "source": [
    "a='spam' + 'spamspam' \n",
    "print(a)\n",
    "b = 'spam' * 3\n",
    "print(b)\n",
    "print(id(a))\n",
    "id(b)"
   ]
  },
  {
   "cell_type": "markdown",
   "metadata": {},
   "source": [
    "both expressions evalute to same result 'spamspamspam'"
   ]
  },
  {
   "cell_type": "markdown",
   "metadata": {},
   "source": [
    "8.Why is eggs a valid variable name while 100 is invalid?\n",
    "\n",
    "\n",
    "Because variable name in python should start with alphabets or underscore(_) so variable name can't start with numericals"
   ]
  },
  {
   "cell_type": "markdown",
   "metadata": {},
   "source": [
    "9. What three functions can be used to get the integer, floating-point number, or string version of a value?\n",
    "\n",
    "We can use int(), float() and str() functions can be used to integer, floating point and string version of a value respectively."
   ]
  },
  {
   "cell_type": "markdown",
   "metadata": {},
   "source": [
    "10. Why does this expression cause an error? How can you fix it?\n",
    "'I have eaten ' + 99 + ' burritos.'\n",
    "\n",
    "Because we can not concatinate strings with integer so it will cause error .We can use string expression like '99'  or str(99) to concatinate with string "
   ]
  }
 ],
 "metadata": {
  "kernelspec": {
   "display_name": "Python 3",
   "language": "python",
   "name": "python3"
  },
  "language_info": {
   "codemirror_mode": {
    "name": "ipython",
    "version": 3
   },
   "file_extension": ".py",
   "mimetype": "text/x-python",
   "name": "python",
   "nbconvert_exporter": "python",
   "pygments_lexer": "ipython3",
   "version": "3.8.5"
  }
 },
 "nbformat": 4,
 "nbformat_minor": 4
}
